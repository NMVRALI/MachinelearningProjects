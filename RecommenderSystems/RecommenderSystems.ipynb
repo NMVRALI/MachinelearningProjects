{
  "cells": [
    {
      "cell_type": "markdown",
      "metadata": {
        "id": "ML_Asy5rAlzn"
      },
      "source": [
        "# Movie Recommender System\n",
        "\n",
        "**Objective**: Develop a movie recommender system using two approaches: Collaborative Filtering (Matrix Factorization) and Content-Based Filtering.\n",
        "\n",
        "---\n",
        "\n",
        "## Project Overview\n",
        "This project involves creating a recommendation system that leverages user ratings and movie metadata. The key steps include:\n",
        "\n",
        "1. **Dataset Description**: Loading and exploring the `MovieLens 100k` dataset, merging ratings and movie details, and preprocessing the data.\n",
        "2. **Data Preparation**: Splitting the dataset into training and testing sets, and creating user-item matrices for modeling.\n",
        "3. **Collaborative Filtering**: Implementing a matrix factorization approach using Singular Value Decomposition (SVD) to predict user preferences.\n",
        "4. **Content-Based Filtering**: Using cosine similarity to recommend movies based on their genre features.\n",
        "5. **Evaluation**: Comparing the performance of both models using RMSE and discussing their strengths and limitations.\n",
        "\n"
      ]
    },
    {
      "cell_type": "markdown",
      "metadata": {},
      "source": [
        "# 1. Description and Data Loading\n",
        "This section imports the necessary libraries and loads the datasets (ratings and movies) from URLs, merges them, and drops unnecessary columns to create a clean data structure."
      ]
    },
    {
      "cell_type": "code",
      "execution_count": 6,
      "metadata": {
        "id": "Q_pP7ea9BUMK"
      },
      "outputs": [
        {
          "name": "stdout",
          "output_type": "stream",
          "text": [
            "<class 'pandas.core.frame.DataFrame'>\n",
            "RangeIndex: 100000 entries, 0 to 99999\n",
            "Data columns (total 25 columns):\n",
            " #   Column        Non-Null Count   Dtype \n",
            "---  ------        --------------   ----- \n",
            " 0   user_id       100000 non-null  int64 \n",
            " 1   movie_id      100000 non-null  int64 \n",
            " 2   rating        100000 non-null  int64 \n",
            " 3   timestamp     100000 non-null  int64 \n",
            " 4   title         100000 non-null  object\n",
            " 5   release_date  99991 non-null   object\n",
            " 6   unknown       100000 non-null  int64 \n",
            " 7   Action        100000 non-null  int64 \n",
            " 8   Adventure     100000 non-null  int64 \n",
            " 9   Animation     100000 non-null  int64 \n",
            " 10  Children      100000 non-null  int64 \n",
            " 11  Comedy        100000 non-null  int64 \n",
            " 12  Crime         100000 non-null  int64 \n",
            " 13  Documentary   100000 non-null  int64 \n",
            " 14  Drama         100000 non-null  int64 \n",
            " 15  Fantasy       100000 non-null  int64 \n",
            " 16  Film-Noir     100000 non-null  int64 \n",
            " 17  Horror        100000 non-null  int64 \n",
            " 18  Musical       100000 non-null  int64 \n",
            " 19  Mystery       100000 non-null  int64 \n",
            " 20  Romance       100000 non-null  int64 \n",
            " 21  Sci-Fi        100000 non-null  int64 \n",
            " 22  Thriller      100000 non-null  int64 \n",
            " 23  War           100000 non-null  int64 \n",
            " 24  Western       100000 non-null  int64 \n",
            "dtypes: int64(23), object(2)\n",
            "memory usage: 19.1+ MB\n",
            "None\n",
            "            user_id       movie_id         rating     timestamp      unknown  \\\n",
            "count  100000.00000  100000.000000  100000.000000  1.000000e+05  100000.0000   \n",
            "mean      462.48475     425.530130       3.529860  8.835289e+08       0.0001   \n",
            "std       266.61442     330.798356       1.125674  5.343856e+06       0.0100   \n",
            "min         1.00000       1.000000       1.000000  8.747247e+08       0.0000   \n",
            "25%       254.00000     175.000000       3.000000  8.794487e+08       0.0000   \n",
            "50%       447.00000     322.000000       4.000000  8.828269e+08       0.0000   \n",
            "75%       682.00000     631.000000       4.000000  8.882600e+08       0.0000   \n",
            "max       943.00000    1682.000000       5.000000  8.932866e+08       1.0000   \n",
            "\n",
            "              Action      Adventure      Animation       Children  \\\n",
            "count  100000.000000  100000.000000  100000.000000  100000.000000   \n",
            "mean        0.255890       0.137530       0.036050       0.071820   \n",
            "std         0.436362       0.344408       0.186416       0.258191   \n",
            "min         0.000000       0.000000       0.000000       0.000000   \n",
            "25%         0.000000       0.000000       0.000000       0.000000   \n",
            "50%         0.000000       0.000000       0.000000       0.000000   \n",
            "75%         1.000000       0.000000       0.000000       0.000000   \n",
            "max         1.000000       1.000000       1.000000       1.000000   \n",
            "\n",
            "              Comedy  ...        Fantasy      Film-Noir         Horror  \\\n",
            "count  100000.000000  ...  100000.000000  100000.000000  100000.000000   \n",
            "mean        0.298320  ...       0.013520       0.017330       0.053170   \n",
            "std         0.457523  ...       0.115487       0.130498       0.224373   \n",
            "min         0.000000  ...       0.000000       0.000000       0.000000   \n",
            "25%         0.000000  ...       0.000000       0.000000       0.000000   \n",
            "50%         0.000000  ...       0.000000       0.000000       0.000000   \n",
            "75%         1.000000  ...       0.000000       0.000000       0.000000   \n",
            "max         1.000000  ...       1.000000       1.000000       1.000000   \n",
            "\n",
            "             Musical        Mystery        Romance        Sci-Fi  \\\n",
            "count  100000.000000  100000.000000  100000.000000  100000.00000   \n",
            "mean        0.049540       0.052450       0.194610       0.12730   \n",
            "std         0.216994       0.222934       0.395902       0.33331   \n",
            "min         0.000000       0.000000       0.000000       0.00000   \n",
            "25%         0.000000       0.000000       0.000000       0.00000   \n",
            "50%         0.000000       0.000000       0.000000       0.00000   \n",
            "75%         0.000000       0.000000       0.000000       0.00000   \n",
            "max         1.000000       1.000000       1.000000       1.00000   \n",
            "\n",
            "           Thriller            War        Western  \n",
            "count  100000.00000  100000.000000  100000.000000  \n",
            "mean        0.21872       0.093980       0.018540  \n",
            "std         0.41338       0.291802       0.134894  \n",
            "min         0.00000       0.000000       0.000000  \n",
            "25%         0.00000       0.000000       0.000000  \n",
            "50%         0.00000       0.000000       0.000000  \n",
            "75%         0.00000       0.000000       0.000000  \n",
            "max         1.00000       1.000000       1.000000  \n",
            "\n",
            "[8 rows x 23 columns]\n"
          ]
        }
      ],
      "source": [
        "# Importing necessary libraries for data manipulation and visualization\n",
        "import pandas as pd\n",
        "from sklearn.model_selection import train_test_split\n",
        "import numpy as np\n",
        "from sklearn.metrics.pairwise import cosine_similarity\n",
        "\n",
        "# Loading the ratings data\n",
        "ratings_url = 'http://files.grouplens.org/datasets/movielens/ml-100k/u.data'\n",
        "movies_url = 'http://files.grouplens.org/datasets/movielens/ml-100k/u.item'\n",
        "\n",
        "# Loading the ratings dataset with user ratings\n",
        "ratings = pd.read_csv(ratings_url, sep='\\t', names=['user_id', 'movie_id', 'rating', 'timestamp'])\n",
        "\n",
        "# Loading the movies dataset with movie details\n",
        "movies = pd.read_csv(movies_url, sep='|', header=None, encoding='latin-1')\n",
        "\n",
        "# Defining proper column names for the movies dataset\n",
        "movies.columns = ['movie_id', 'title', 'release_date', 'video_release_date', 'IMDb_URL', 'unknown', 'Action', 'Adventure', 'Animation',\n",
        "                  'Children', 'Comedy', 'Crime', 'Documentary', 'Drama', 'Fantasy', 'Film-Noir', 'Horror', 'Musical', 'Mystery', 'Romance', 'Sci-Fi',\n",
        "                  'Thriller', 'War', 'Western']\n",
        "\n",
        "# Dropping unnecessary columns that won't be used for modeling\n",
        "movies = movies.drop(['video_release_date', 'IMDb_URL'], axis=1)\n",
        "\n",
        "# Merging the two datasets on 'movie_id' to combine ratings with movie details\n",
        "data = pd.merge(ratings, movies, on='movie_id')\n",
        "\n",
        "# Data inspection (new addition): Checking data structure and some statistical information\n",
        "print(data.info())  # Checking data structure\n",
        "print(data.describe())  # Statistical summary of numerical columns"
      ]
    },
    {
      "cell_type": "markdown",
      "metadata": {},
      "source": [
        "# 2. Data Preparation\n",
        "This step prepares the data by splitting it into training and testing sets. It aggregates the data to handle duplicates and creates matrices representing user-item ratings for both training and testing."
      ]
    },
    {
      "cell_type": "code",
      "execution_count": 2,
      "metadata": {
        "id": "TUijmaxI_6Qs"
      },
      "outputs": [
        {
          "data": {
            "image/png": "[encoded data removed]",
            "text/plain": [
              "<Figure size 640x480 with 1 Axes>"
            ]
          },
          "metadata": {},
          "output_type": "display_data"
        }
      ],
      "source": [
        "# Splitting the data into training (80%) and testing (20%) datasets\n",
        "train_data, test_data = train_test_split(data, test_size=0.2)\n",
        "\n",
        "# Aggregating data to avoid duplicates by averaging ratings\n",
        "train_data_grouped = train_data.groupby(['user_id', 'movie_id']).agg({'rating': 'mean'}).reset_index()\n",
        "\n",
        "# Creating user-item matrix for training: Users as rows, Movies as columns, and Ratings as values\n",
        "train_matrix = train_data_grouped.pivot_table(index='user_id', columns='movie_id', values='rating').fillna(0)\n",
        "\n",
        "# Repeating the same process for the test dataset\n",
        "test_data_grouped = test_data.groupby(['user_id', 'movie_id']).agg({'rating': 'mean'}).reset_index()\n",
        "test_matrix = test_data_grouped.pivot_table(index='user_id', columns='movie_id', values='rating').fillna(0)\n",
        "\n",
        "# Visualization: Distribution of ratings in the dataset\n",
        "import matplotlib.pyplot as plt\n",
        "data['rating'].hist(bins=5)\n",
        "plt.title('Distribution of User Ratings')\n",
        "plt.xlabel('Rating')\n",
        "plt.ylabel('Number of Ratings')\n",
        "plt.show()"
      ]
    },
    {
      "cell_type": "markdown",
      "metadata": {
        "id": "zRBNaCH4FV_g"
      },
      "source": [
        "# 3.Collaborative Filtering (Matrix Factorization)\n",
        " This section applies matrix factorization (SVD) to learn latent factors from the user-item matrix."
      ]
    },
    {
      "cell_type": "code",
      "execution_count": 8,
      "metadata": {
        "id": "VnB1zyt63zh0"
      },
      "outputs": [
        {
          "name": "stdout",
          "output_type": "stream",
          "text": [
            "[[ 6.89287661  2.62054853  1.56568389  1.65469694  1.07557997]\n",
            " [ 2.73108716  0.01221769  0.31968085  0.3044525   0.24583818]\n",
            " [ 0.07776996 -0.0491709  -0.07499022 -0.11411802  0.01858013]\n",
            " [ 0.53310181 -0.14423557  0.10744326  0.29628627  0.01358969]\n",
            " [ 2.26653145  1.11731632  0.11415757  0.23955861  0.70871366]]\n"
          ]
        }
      ],
      "source": [
        "from scipy.sparse.linalg import svds\n",
        "\n",
        "# Performing Singular Value Decomposition (SVD) for matrix factorization\n",
        "U, sigma, Vt = svds(train_matrix.values, k=50)\n",
        "\n",
        "# Generating predictions for the user-item ratings\n",
        "sigma = np.diag(sigma)\n",
        "predicted_ratings = np.dot(np.dot(U, sigma), Vt)\n",
        "\n",
        "genres_matrix = movies.iloc[:, 5:] \n",
        "cosine_sim = cosine_similarity(genres_matrix, genres_matrix)\n",
        "# Preview of the predicted ratings matrix (first 5 rows and columns)\n",
        "print(predicted_ratings[:5, :5])\n",
        "\n"
      ]
    },
    {
      "cell_type": "markdown",
      "metadata": {
        "id": "vnUMBadhFQSD"
      },
      "source": [
        "# 4. Content-based Filtering (Cosine Similarity)\n",
        "This section implements a content-based recommendation system that suggests movies similar to a given movie based on their genres. The function calculates similarity scores using a precomputed cosine similarity matrix and returns a list of recommended movies along with their similarity scores. This helps in understanding both the recommendations and their relevance to the input movie.\n",
        "\n",
        "\n",
        "\n",
        "\n",
        "\n",
        "\n",
        "\n"
      ]
    },
    {
      "cell_type": "code",
      "execution_count": 9,
      "metadata": {
        "id": "n3F-8_Gp6lvB"
      },
      "outputs": [
        {
          "name": "stdout",
          "output_type": "stream",
          "text": [
            "Recommended Movies with Similarity Scores:\n",
            "Aladdin and the King of Thieves (1996) - Similarity Score: 1.0000\n",
            "Aladdin (1992) - Similarity Score: 0.8660\n",
            "Goofy Movie, A (1995) - Similarity Score: 0.8660\n",
            "Santa Clause, The (1994) - Similarity Score: 0.8165\n",
            "Home Alone (1990) - Similarity Score: 0.8165\n",
            "Aristocats, The (1970) - Similarity Score: 0.8165\n",
            "D3: The Mighty Ducks (1996) - Similarity Score: 0.8165\n",
            "Love Bug, The (1969) - Similarity Score: 0.8165\n",
            "Wrong Trousers, The (1993) - Similarity Score: 0.8165\n",
            "Grand Day Out, A (1992) - Similarity Score: 0.8165\n"
          ]
        }
      ],
      "source": [
        "def content_based_recommendations_with_scores(movie_id, cosine_sim=cosine_sim, movies=movies, top_n=10):\n",
        "    # Find the index of the given movie\n",
        "    idx = movies.index[movies['movie_id'] == movie_id].tolist()[0]\n",
        "\n",
        "    # Get the pairwise similarity scores of all movies with that movie\n",
        "    sim_scores = list(enumerate(cosine_sim[idx]))\n",
        "\n",
        "    # Sort the movies based on the similarity scores\n",
        "    sim_scores = sorted(sim_scores, key=lambda x: x[1], reverse=True)\n",
        "\n",
        "    # Get the scores of the top-n most similar movies\n",
        "    sim_scores = sim_scores[1:top_n+1]  # Skip the input movie itself\n",
        "\n",
        "    # Retrieve movie titles and similarity scores\n",
        "    recommendations = [(movies.iloc[i[0]]['title'], i[1]) for i in sim_scores]\n",
        "\n",
        "    return recommendations\n",
        "\n",
        "# Example usage: Get recommendations with scores for movie_id=1\n",
        "recommended_movies = content_based_recommendations_with_scores(1)\n",
        "\n",
        "# Print the recommendations with scores\n",
        "print(\"Recommended Movies with Similarity Scores:\")\n",
        "for title, score in recommended_movies:\n",
        "    print(f\"{title} - Similarity Score: {score:.4f}\")\n"
      ]
    },
    {
      "cell_type": "markdown",
      "metadata": {},
      "source": [
        "# 5. Result Comparison\n",
        "Compare the output of both models and discuss their strengths and limitations.\n"
      ]
    },
    {
      "cell_type": "code",
      "execution_count": 12,
      "metadata": {},
      "outputs": [
        {
          "name": "stdout",
          "output_type": "stream",
          "text": [
            "RMSE for Collaborative Filtering Model: 3.4255\n"
          ]
        }
      ],
      "source": [
        "from sklearn.metrics import mean_squared_error\n",
        "def calculate_rmse(predicted_ratings, test_matrix):\n",
        "    # Flatten the matrices \n",
        "    predicted_ratings_flat = predicted_ratings[test_matrix.values.nonzero()] \n",
        "    test_ratings_flat= test_matrix.values[test_matrix.values.nonzero()]\n",
        "    \n",
        "    rmse = np.sqrt(mean_squared_error(test_ratings_flat, predicted_ratings_flat))\n",
        "    return rmse\n",
        "\n",
        "rmse = calculate_rmse(predicted_ratings, test_matrix) \n",
        "print(f\"RMSE for Collaborative Filtering Model: {rmse:.4f}\")"
      ]
    },
    {
      "cell_type": "markdown",
      "metadata": {},
      "source": [
        "---\n",
        "\n",
        "## Conclusion\n",
        "\n",
        "In this project, we implemented two different movie recommendation systems: **Collaborative Filtering** based on matrix factorization and **Content-Based Filtering** using movie features. These models were compared based on their ability to provide accurate and relevant movie recommendations.\n",
        "\n",
        "### Summary:\n",
        "- **Collaborative Filtering** is based on user-item interactions and generates personalized recommendations. It works well when there is sufficient user data but can suffer from challenges like the cold-start problem and data sparsity.\n",
        "- **Content-Based Filtering** utilizes movie metadata (e.g., genres) to recommend similar movies to the user. While it can operate effectively with limited user data, it may provide recommendations that lack diversity.\n",
        "\n",
        "### Results:\n",
        "Both models demonstrated different strengths in generating recommendations. The **Collaborative Filtering** model was able to predict ratings effectively but faced limitations in cold-start scenarios. The **Content-Based Filtering** model was able to recommend similar movies based on features, though it might not capture a user's unique preferences as well as the collaborative approach.\n",
        "\n",
        "### Final Thoughts:\n",
        "Each approach has its strengths and weaknesses. A hybrid model combining both collaborative and content-based techniques could lead to a more robust and effective recommendation system. The results from both models highlight the importance of tailoring recommendation systems to the specific needs and characteristics of the data.\n",
        "\n",
        "---\n"
      ]
    }
  ],
  "metadata": {
    "colab": {
      "provenance": []
    },
    "kernelspec": {
      "display_name": "Python 3",
      "name": "python3"
    },
    "language_info": {
      "codemirror_mode": {
        "name": "ipython",
        "version": 3
      },
      "file_extension": ".py",
      "mimetype": "text/x-python",
      "name": "python",
      "nbconvert_exporter": "python",
      "pygments_lexer": "ipython3",
      "version": "3.12.0"
    }
  },
  "nbformat": 4,
  "nbformat_minor": 0
}
